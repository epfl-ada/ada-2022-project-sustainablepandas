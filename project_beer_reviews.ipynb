{
 "cells": [
  {
   "cell_type": "markdown",
   "id": "f90f8c52-08e6-41eb-b9d6-75f88524b489",
   "metadata": {},
   "source": [
    "## Project Beer reviews \n",
    "### Group SustainablePandas\n",
    "Groups members: Bastien Amez-Droz, Noé Fellay, Nicolas Frédéric Rochat, Baptiste Michel \\\n",
    "TA: Halima Schede"
   ]
  },
  {
   "cell_type": "markdown",
   "id": "3555ad0f-41a1-4d00-bfb0-0246aa4bdc3a",
   "metadata": {},
   "source": [
    "### Libraries"
   ]
  },
  {
   "cell_type": "code",
   "execution_count": 1,
   "id": "fa92b0b4-730f-4326-b490-0436f45e2e79",
   "metadata": {},
   "outputs": [],
   "source": [
    "import matplotlib.pyplot as plt\n",
    "%matplotlib inline\n",
    "\n",
    "import tarfile\n",
    "import gzip\n",
    "import shutil\n",
    "\n",
    "import seaborn as sns\n",
    "import math\n",
    "import matplotlib\n",
    "import pandas as pd\n",
    "import os\n",
    "import numpy as np\n"
   ]
  },
  {
   "cell_type": "markdown",
   "id": "799dd60f-69f8-425f-bfc3-a8cde1d24868",
   "metadata": {},
   "source": [
    "### Uncompress folders and files"
   ]
  },
  {
   "cell_type": "code",
   "execution_count": 2,
   "id": "18601d20-ab0c-43dc-8b3e-39fe02a49743",
   "metadata": {},
   "outputs": [],
   "source": [
    "def ungzip_folder(FOLDER_NAME):\n",
    "    \"\"\"\n",
    "    This function allows to extract datas from gzip folder into a new accessible folder\n",
    "    - FOLDER_NAME: name of the folder to create from the gzip folder\n",
    "    The function returns nothing, it only creates the new folder\n",
    "    \"\"\"\n",
    "    FOLDER_PATH = './Data/' + FOLDER_NAME\n",
    "    \n",
    "    #check if folder is already unzipped\n",
    "    if os.path.exists(FOLDER_PATH) == False:\n",
    "    \n",
    "        # open folder\n",
    "        folder = tarfile.open(FOLDER_PATH + '.tar.gz',\"r:gz\")\n",
    "        # extracting folder\n",
    "        folder.extractall(FOLDER_PATH)\n",
    "        # closing folder\n",
    "        folder.close()"
   ]
  },
  {
   "cell_type": "code",
   "execution_count": 3,
   "id": "84acaa7b-3a15-4228-b3e0-b1693f3da1c4",
   "metadata": {},
   "outputs": [],
   "source": [
    "ungzip_folder(\"RateBeer\")"
   ]
  },
  {
   "cell_type": "code",
   "execution_count": 4,
   "id": "6b8af7dc-c2d0-436c-934d-8db3a5b8039d",
   "metadata": {},
   "outputs": [],
   "source": [
    "def ungzip_txt_file(FOLDER_NAME, FILE_NAME):\n",
    "    \"\"\"\n",
    "    This function allows to extract datas from gzip file into a new accessible file\n",
    "    - FOLDER_NAME: name of the folder in which the gzip file is\n",
    "    - FILE_NAME: name of the file to create from the gzip file\n",
    "    The function returns nothing, it only creates the new file\n",
    "    \"\"\"\n",
    "    FILE_PATH = './Data/' + FOLDER_NAME + '/' + FILE_NAME\n",
    "    \n",
    "    #check if file is already unzipped\n",
    "    if os.path.exists(FILE_PATH) == False:\n",
    "    \n",
    "        with gzip.open(FILE_PATH + '.gz', 'r') as f_in:\n",
    "            with open(FILE_PATH, 'wb') as f_out:\n",
    "                shutil.copyfileobj(f_in, f_out)"
   ]
  },
  {
   "cell_type": "code",
   "execution_count": 5,
   "id": "8b7b1f6b-7798-4710-a464-01adbd9d3cb1",
   "metadata": {},
   "outputs": [],
   "source": [
    "ungzip_txt_file(\"RateBeer\",\"ratings.txt\")\n",
    "ungzip_txt_file(\"RateBeer\",\"reviews.txt\")"
   ]
  },
  {
   "cell_type": "markdown",
   "id": "b92cd0cf-7b68-454c-bfd6-41038926d249",
   "metadata": {},
   "source": [
    "### Extract infos from txt files"
   ]
  },
  {
   "cell_type": "code",
   "execution_count": 6,
   "id": "c5c55105-d300-4b67-ab8c-af1868a3b6e6",
   "metadata": {},
   "outputs": [],
   "source": [
    "def txt_to_dataframe(FOLDER_NAME,TXT_FILE_NAME,keys_list):\n",
    "    \"\"\"\n",
    "    This function allows to pass the txt file to a dataframe\n",
    "    - FOLDER_NAME: name of the folder in which the txt file is\n",
    "    - TXT_FILE_NAME: text file with a dictionary format\n",
    "    - keys_list: list of keys for the columns\n",
    "    The function returns a dataframe file\n",
    "    \"\"\"\n",
    "    dict_list = []\n",
    "    newDict = {key: None for key in keys_list}\n",
    "    \n",
    "    FILE_PATH = './Data/' + FOLDER_NAME + '/' + TXT_FILE_NAME\n",
    "\n",
    "    with open(FILE_PATH, 'r', encoding=\"utf8\") as f:\n",
    "    \n",
    "        for line in f:\n",
    "            line = line.replace(u'\\xa0','')\n",
    "            listedline = line.split(':',1) # split around the \":\" sign\n",
    "        \n",
    "            # take non-empty lines\n",
    "            if len(listedline) > 1:\n",
    "                newDict[listedline[0]] = listedline[1].strip()\n",
    "        \n",
    "            # finish the dictionary for the line\n",
    "            if listedline[0] == keys_list[-1]:\n",
    "                dict_list.append(newDict)\n",
    "            \n",
    "                # reinitialize the dictionary for the next line\n",
    "                newDict = {key: None for key in keys_list}\n",
    "    \n",
    "        # transform list of dictionaries to dataframe\n",
    "        df = pd.DataFrame(dict_list,columns=keys_list)    \n",
    "    \n",
    "    return df"
   ]
  },
  {
   "cell_type": "code",
   "execution_count": 7,
   "id": "c40c5509-5ad3-4bf1-902b-41bf0a005450",
   "metadata": {},
   "outputs": [],
   "source": [
    "keys_reviews = (['beer_name','beer_id','brewery_name','brewery_id','style','abv','date','user_name','user_id',\\\n",
    "                          'appearance','aroma','palate','taste','overall','rating','text'])\n",
    "\n",
    "df_reviews_RB = txt_to_dataframe(\"RateBeer\",\"reviews.txt\",keys_reviews)"
   ]
  },
  {
   "cell_type": "code",
   "execution_count": 8,
   "id": "d13f4d6f-0464-4458-b248-4cad04c89f35",
   "metadata": {},
   "outputs": [
    {
     "data": {
      "text/html": [
       "<div>\n",
       "<style scoped>\n",
       "    .dataframe tbody tr th:only-of-type {\n",
       "        vertical-align: middle;\n",
       "    }\n",
       "\n",
       "    .dataframe tbody tr th {\n",
       "        vertical-align: top;\n",
       "    }\n",
       "\n",
       "    .dataframe thead th {\n",
       "        text-align: right;\n",
       "    }\n",
       "</style>\n",
       "<table border=\"1\" class=\"dataframe\">\n",
       "  <thead>\n",
       "    <tr style=\"text-align: right;\">\n",
       "      <th></th>\n",
       "      <th>beer_name</th>\n",
       "      <th>beer_id</th>\n",
       "      <th>brewery_name</th>\n",
       "      <th>brewery_id</th>\n",
       "      <th>style</th>\n",
       "      <th>abv</th>\n",
       "      <th>date</th>\n",
       "      <th>user_name</th>\n",
       "      <th>user_id</th>\n",
       "      <th>appearance</th>\n",
       "      <th>aroma</th>\n",
       "      <th>palate</th>\n",
       "      <th>taste</th>\n",
       "      <th>overall</th>\n",
       "      <th>rating</th>\n",
       "      <th>text</th>\n",
       "    </tr>\n",
       "  </thead>\n",
       "  <tbody>\n",
       "    <tr>\n",
       "      <th>0</th>\n",
       "      <td>33 Export (Gabon)</td>\n",
       "      <td>410549</td>\n",
       "      <td>Sobraga</td>\n",
       "      <td>3198</td>\n",
       "      <td>Pale Lager</td>\n",
       "      <td>5.0</td>\n",
       "      <td>1461664800</td>\n",
       "      <td>Manslow</td>\n",
       "      <td>175852</td>\n",
       "      <td>2</td>\n",
       "      <td>4</td>\n",
       "      <td>2</td>\n",
       "      <td>4</td>\n",
       "      <td>8</td>\n",
       "      <td>2.00</td>\n",
       "      <td>Puszka 0,33l dzięki Christoph . Kolor jasnozło...</td>\n",
       "    </tr>\n",
       "    <tr>\n",
       "      <th>1</th>\n",
       "      <td>Castel Beer (Gabon)</td>\n",
       "      <td>105273</td>\n",
       "      <td>Sobraga</td>\n",
       "      <td>3198</td>\n",
       "      <td>Pale Lager</td>\n",
       "      <td>5.2</td>\n",
       "      <td>1487329200</td>\n",
       "      <td>MAGICuenca91</td>\n",
       "      <td>442761</td>\n",
       "      <td>2</td>\n",
       "      <td>3</td>\n",
       "      <td>2</td>\n",
       "      <td>4</td>\n",
       "      <td>8</td>\n",
       "      <td>1.90</td>\n",
       "      <td>Cerveza pale lager gabonesa. MÃ¡s floja que la...</td>\n",
       "    </tr>\n",
       "    <tr>\n",
       "      <th>2</th>\n",
       "      <td>Castel Beer (Gabon)</td>\n",
       "      <td>105273</td>\n",
       "      <td>Sobraga</td>\n",
       "      <td>3198</td>\n",
       "      <td>Pale Lager</td>\n",
       "      <td>5.2</td>\n",
       "      <td>1466762400</td>\n",
       "      <td>Sibarh</td>\n",
       "      <td>288889</td>\n",
       "      <td>3</td>\n",
       "      <td>3</td>\n",
       "      <td>2</td>\n",
       "      <td>3</td>\n",
       "      <td>5</td>\n",
       "      <td>1.60</td>\n",
       "      <td>Kolor- złoty, klarowny. Piana - drobna, średni...</td>\n",
       "    </tr>\n",
       "    <tr>\n",
       "      <th>3</th>\n",
       "      <td>Castel Beer (Gabon)</td>\n",
       "      <td>105273</td>\n",
       "      <td>Sobraga</td>\n",
       "      <td>3198</td>\n",
       "      <td>Pale Lager</td>\n",
       "      <td>5.2</td>\n",
       "      <td>1451646000</td>\n",
       "      <td>fombe89</td>\n",
       "      <td>250510</td>\n",
       "      <td>4</td>\n",
       "      <td>3</td>\n",
       "      <td>1</td>\n",
       "      <td>2</td>\n",
       "      <td>5</td>\n",
       "      <td>1.50</td>\n",
       "      <td>Botella, de GabÃ³n regalo familiar.31/01/2015C...</td>\n",
       "    </tr>\n",
       "    <tr>\n",
       "      <th>4</th>\n",
       "      <td>Castel Beer (Gabon)</td>\n",
       "      <td>105273</td>\n",
       "      <td>Sobraga</td>\n",
       "      <td>3198</td>\n",
       "      <td>Pale Lager</td>\n",
       "      <td>5.2</td>\n",
       "      <td>1445594400</td>\n",
       "      <td>kevnic2008</td>\n",
       "      <td>122778</td>\n",
       "      <td>2</td>\n",
       "      <td>4</td>\n",
       "      <td>2</td>\n",
       "      <td>4</td>\n",
       "      <td>7</td>\n",
       "      <td>1.90</td>\n",
       "      <td>Many thanks for this beer to Erzengel. Pours l...</td>\n",
       "    </tr>\n",
       "  </tbody>\n",
       "</table>\n",
       "</div>"
      ],
      "text/plain": [
       "             beer_name beer_id brewery_name brewery_id       style  abv  \\\n",
       "0    33 Export (Gabon)  410549      Sobraga       3198  Pale Lager  5.0   \n",
       "1  Castel Beer (Gabon)  105273      Sobraga       3198  Pale Lager  5.2   \n",
       "2  Castel Beer (Gabon)  105273      Sobraga       3198  Pale Lager  5.2   \n",
       "3  Castel Beer (Gabon)  105273      Sobraga       3198  Pale Lager  5.2   \n",
       "4  Castel Beer (Gabon)  105273      Sobraga       3198  Pale Lager  5.2   \n",
       "\n",
       "         date     user_name user_id appearance aroma palate taste overall  \\\n",
       "0  1461664800       Manslow  175852          2     4      2     4       8   \n",
       "1  1487329200  MAGICuenca91  442761          2     3      2     4       8   \n",
       "2  1466762400        Sibarh  288889          3     3      2     3       5   \n",
       "3  1451646000       fombe89  250510          4     3      1     2       5   \n",
       "4  1445594400    kevnic2008  122778          2     4      2     4       7   \n",
       "\n",
       "  rating                                               text  \n",
       "0   2.00  Puszka 0,33l dzięki Christoph . Kolor jasnozło...  \n",
       "1   1.90  Cerveza pale lager gabonesa. MÃ¡s floja que la...  \n",
       "2   1.60  Kolor- złoty, klarowny. Piana - drobna, średni...  \n",
       "3   1.50  Botella, de GabÃ³n regalo familiar.31/01/2015C...  \n",
       "4   1.90  Many thanks for this beer to Erzengel. Pours l...  "
      ]
     },
     "execution_count": 8,
     "metadata": {},
     "output_type": "execute_result"
    }
   ],
   "source": [
    "df_reviews_RB.head()"
   ]
  },
  {
   "cell_type": "markdown",
   "id": "1d7d94b0-d9ee-4d69-a20c-334381faf684",
   "metadata": {
    "tags": []
   },
   "source": [
    "### Extract infos from csv files"
   ]
  },
  {
   "cell_type": "code",
   "execution_count": 9,
   "id": "53437d6f-e602-4025-8f3d-37cc3253567f",
   "metadata": {},
   "outputs": [],
   "source": [
    "df_beers_RB = pd.read_csv(\"./Data/RateBeer/beers.csv\")\n",
    "df_users_RB = pd.read_csv(\"./Data/RateBeer/users.csv\")\n",
    "df_breweries_RB = pd.read_csv(\"./Data/RateBeer/breweries.csv\")\n",
    "\n",
    "df_breweries_RB.rename(columns={\"id\": \"brewery_id\"}, inplace=True)"
   ]
  },
  {
   "cell_type": "code",
   "execution_count": 11,
   "id": "63b6d2ee-125e-4449-b3d6-309eb73b4323",
   "metadata": {},
   "outputs": [
    {
     "data": {
      "text/html": [
       "<div>\n",
       "<style scoped>\n",
       "    .dataframe tbody tr th:only-of-type {\n",
       "        vertical-align: middle;\n",
       "    }\n",
       "\n",
       "    .dataframe tbody tr th {\n",
       "        vertical-align: top;\n",
       "    }\n",
       "\n",
       "    .dataframe thead th {\n",
       "        text-align: right;\n",
       "    }\n",
       "</style>\n",
       "<table border=\"1\" class=\"dataframe\">\n",
       "  <thead>\n",
       "    <tr style=\"text-align: right;\">\n",
       "      <th></th>\n",
       "      <th>nbr_ratings</th>\n",
       "      <th>user_id</th>\n",
       "      <th>user_name</th>\n",
       "      <th>joined</th>\n",
       "      <th>location</th>\n",
       "    </tr>\n",
       "  </thead>\n",
       "  <tbody>\n",
       "    <tr>\n",
       "      <th>0</th>\n",
       "      <td>1890</td>\n",
       "      <td>175852</td>\n",
       "      <td>Manslow</td>\n",
       "      <td>1.337508e+09</td>\n",
       "      <td>Poland</td>\n",
       "    </tr>\n",
       "    <tr>\n",
       "      <th>1</th>\n",
       "      <td>89</td>\n",
       "      <td>442761</td>\n",
       "      <td>MAGICuenca91</td>\n",
       "      <td>1.484046e+09</td>\n",
       "      <td>Spain</td>\n",
       "    </tr>\n",
       "    <tr>\n",
       "      <th>2</th>\n",
       "      <td>169</td>\n",
       "      <td>288889</td>\n",
       "      <td>Sibarh</td>\n",
       "      <td>1.384600e+09</td>\n",
       "      <td>Poland</td>\n",
       "    </tr>\n",
       "    <tr>\n",
       "      <th>3</th>\n",
       "      <td>3371</td>\n",
       "      <td>250510</td>\n",
       "      <td>fombe89</td>\n",
       "      <td>1.363950e+09</td>\n",
       "      <td>Spain</td>\n",
       "    </tr>\n",
       "    <tr>\n",
       "      <th>4</th>\n",
       "      <td>13043</td>\n",
       "      <td>122778</td>\n",
       "      <td>kevnic2008</td>\n",
       "      <td>1.296644e+09</td>\n",
       "      <td>Germany</td>\n",
       "    </tr>\n",
       "  </tbody>\n",
       "</table>\n",
       "</div>"
      ],
      "text/plain": [
       "   nbr_ratings  user_id     user_name        joined location\n",
       "0         1890   175852       Manslow  1.337508e+09   Poland\n",
       "1           89   442761  MAGICuenca91  1.484046e+09    Spain\n",
       "2          169   288889        Sibarh  1.384600e+09   Poland\n",
       "3         3371   250510       fombe89  1.363950e+09    Spain\n",
       "4        13043   122778    kevnic2008  1.296644e+09  Germany"
      ]
     },
     "execution_count": 11,
     "metadata": {},
     "output_type": "execute_result"
    }
   ],
   "source": [
    "df_users_RB.head()"
   ]
  },
  {
   "cell_type": "markdown",
   "id": "24085631-fa28-4aab-91b2-fbfd9ebef043",
   "metadata": {
    "tags": []
   },
   "source": [
    "### Create a dataframe for further analyses"
   ]
  },
  {
   "cell_type": "markdown",
   "id": "8b0b7790-f697-413a-889d-7617a1f9226d",
   "metadata": {},
   "source": [
    "Dataframe format: &emsp; beer_name | beer_id | brewery_id | date | rating | user_location | brewery_location"
   ]
  },
  {
   "cell_type": "code",
   "execution_count": 23,
   "id": "4ade9e37-2c83-45ec-815e-5b678bb0635a",
   "metadata": {},
   "outputs": [],
   "source": [
    "# merge reviews and users on user infos\n",
    "df_reviews_RB['user_id'] = df_reviews_RB['user_id'].astype(int)\n",
    "df_reviews_RB['brewery_id'] = df_reviews_RB['brewery_id'].astype(int)\n",
    "\n",
    "df_reviews_users_RB=pd.merge(df_reviews_RB, df_users_RB, how=\"left\", on=['user_name','user_id'])\n",
    "df_all_RB = pd.merge(df_reviews_users_RB,df_breweries_RB, how='left', on=['brewery_id'])\n",
    "\n",
    "# keep only keys of interest\n",
    "df_interest_RB= df_all_RB.drop(['style', 'abv', 'appearance', 'user_id', 'aroma', 'palate', 'taste', 'text', 'brewery_name', 'user_name', 'overall', 'nbr_ratings', 'joined', 'name', 'nbr_beers'], axis=1)\n",
    "\n",
    "# rename location variables\n",
    "df_interest_RB.rename(columns={\"location_x\": \"user_location\"}, inplace=True)\n",
    "df_interest_RB.rename(columns={\"location_y\": \"brewery_location\"}, inplace=True)\n",
    "\n",
    "# set time variable\n",
    "df_interest_RB['date'] = pd.to_datetime(df_interest_RB['date'], unit='s')"
   ]
  },
  {
   "cell_type": "code",
   "execution_count": 24,
   "id": "9e75bc40-461d-462b-9afb-1c7ac6a12b1d",
   "metadata": {},
   "outputs": [
    {
     "data": {
      "text/html": [
       "<div>\n",
       "<style scoped>\n",
       "    .dataframe tbody tr th:only-of-type {\n",
       "        vertical-align: middle;\n",
       "    }\n",
       "\n",
       "    .dataframe tbody tr th {\n",
       "        vertical-align: top;\n",
       "    }\n",
       "\n",
       "    .dataframe thead th {\n",
       "        text-align: right;\n",
       "    }\n",
       "</style>\n",
       "<table border=\"1\" class=\"dataframe\">\n",
       "  <thead>\n",
       "    <tr style=\"text-align: right;\">\n",
       "      <th></th>\n",
       "      <th>beer_name</th>\n",
       "      <th>beer_id</th>\n",
       "      <th>brewery_id</th>\n",
       "      <th>date</th>\n",
       "      <th>rating</th>\n",
       "      <th>user_location</th>\n",
       "      <th>brewery_location</th>\n",
       "    </tr>\n",
       "  </thead>\n",
       "  <tbody>\n",
       "    <tr>\n",
       "      <th>0</th>\n",
       "      <td>33 Export (Gabon)</td>\n",
       "      <td>410549</td>\n",
       "      <td>3198</td>\n",
       "      <td>2016-04-26 10:00:00</td>\n",
       "      <td>2.00</td>\n",
       "      <td>Poland</td>\n",
       "      <td>Gabon</td>\n",
       "    </tr>\n",
       "    <tr>\n",
       "      <th>1</th>\n",
       "      <td>Castel Beer (Gabon)</td>\n",
       "      <td>105273</td>\n",
       "      <td>3198</td>\n",
       "      <td>2017-02-17 11:00:00</td>\n",
       "      <td>1.90</td>\n",
       "      <td>Spain</td>\n",
       "      <td>Gabon</td>\n",
       "    </tr>\n",
       "    <tr>\n",
       "      <th>2</th>\n",
       "      <td>Castel Beer (Gabon)</td>\n",
       "      <td>105273</td>\n",
       "      <td>3198</td>\n",
       "      <td>2016-06-24 10:00:00</td>\n",
       "      <td>1.60</td>\n",
       "      <td>Poland</td>\n",
       "      <td>Gabon</td>\n",
       "    </tr>\n",
       "    <tr>\n",
       "      <th>3</th>\n",
       "      <td>Castel Beer (Gabon)</td>\n",
       "      <td>105273</td>\n",
       "      <td>3198</td>\n",
       "      <td>2016-01-01 11:00:00</td>\n",
       "      <td>1.50</td>\n",
       "      <td>Spain</td>\n",
       "      <td>Gabon</td>\n",
       "    </tr>\n",
       "    <tr>\n",
       "      <th>4</th>\n",
       "      <td>Castel Beer (Gabon)</td>\n",
       "      <td>105273</td>\n",
       "      <td>3198</td>\n",
       "      <td>2015-10-23 10:00:00</td>\n",
       "      <td>1.90</td>\n",
       "      <td>Germany</td>\n",
       "      <td>Gabon</td>\n",
       "    </tr>\n",
       "  </tbody>\n",
       "</table>\n",
       "</div>"
      ],
      "text/plain": [
       "             beer_name beer_id  brewery_id                date rating  \\\n",
       "0    33 Export (Gabon)  410549        3198 2016-04-26 10:00:00   2.00   \n",
       "1  Castel Beer (Gabon)  105273        3198 2017-02-17 11:00:00   1.90   \n",
       "2  Castel Beer (Gabon)  105273        3198 2016-06-24 10:00:00   1.60   \n",
       "3  Castel Beer (Gabon)  105273        3198 2016-01-01 11:00:00   1.50   \n",
       "4  Castel Beer (Gabon)  105273        3198 2015-10-23 10:00:00   1.90   \n",
       "\n",
       "  user_location brewery_location  \n",
       "0        Poland            Gabon  \n",
       "1         Spain            Gabon  \n",
       "2        Poland            Gabon  \n",
       "3         Spain            Gabon  \n",
       "4       Germany            Gabon  "
      ]
     },
     "execution_count": 24,
     "metadata": {},
     "output_type": "execute_result"
    }
   ],
   "source": [
    "df_interest_RB.head()"
   ]
  },
  {
   "cell_type": "markdown",
   "id": "7648d401-403b-46f0-8b85-9a513787912e",
   "metadata": {},
   "source": [
    "### Histogram of reviews over time"
   ]
  },
  {
   "cell_type": "code",
   "execution_count": 25,
   "id": "994f338d-aac3-4f58-a535-f85c766ccec3",
   "metadata": {},
   "outputs": [
    {
     "data": {
      "image/png": "[encoded data removed]",
      "text/plain": [
       "<Figure size 432x288 with 1 Axes>"
      ]
     },
     "metadata": {
      "needs_background": "light"
     },
     "output_type": "display_data"
    }
   ],
   "source": [
    "# Histogram of reviews over time\n",
    "plt.hist(df_interest_RB['date'])\n",
    "\n",
    "plt.title(\"Histogram of reviews over time\")\n",
    "plt.xlabel(\"Time\")\n",
    "plt.xticks(rotation=270)\n",
    "plt.ylabel(\"Number of reviews\")\n",
    "plt.show()"
   ]
  },
  {
   "cell_type": "markdown",
   "id": "0e33583f-8bf2-4023-a568-9f2dc4e4fae0",
   "metadata": {},
   "source": [
    "### Reviews per county of US and country"
   ]
  },
  {
   "cell_type": "code",
   "execution_count": 26,
   "id": "15e0fa36-bd12-4754-bb97-85f267e24936",
   "metadata": {},
   "outputs": [],
   "source": [
    "# split user location into country and county\n",
    "df_interest_RB[[\"user_country\",\"user_county\"]] = df_interest_RB['user_location'].str.split(pat = ', ', expand = True)\n",
    "df_interest_RB.fillna(\"\",inplace=True)\n",
    "\n",
    "# create a dataframe on counties from United States\n",
    "Num_county = df_interest_RB.groupby([\"user_country\",\"user_county\"])[\"user_county\"].count()\n",
    "Num_county = Num_county[\"United States\"]\n",
    "df_county = Num_county.to_frame()\n",
    "df_county.rename(columns = {'user_county':'reviews'}, inplace = True)\n",
    "\n",
    "# create a dataframe on countries\n",
    "Num_country = df_interest_RB.groupby([\"user_country\"])[\"user_country\"].count()\n",
    "df_country = Num_country.to_frame()\n",
    "df_country.rename(columns = {'user_country':'reviews'}, inplace = True)"
   ]
  },
  {
   "cell_type": "code",
   "execution_count": 29,
   "id": "5ca5ba0e-d548-4d97-904d-c325f9859f0c",
   "metadata": {},
   "outputs": [
    {
     "data": {
      "image/png": "[encoded data removed]",
      "text/plain": [
       "<Figure size 432x288 with 2 Axes>"
      ]
     },
     "metadata": {
      "needs_background": "light"
     },
     "output_type": "display_data"
    }
   ],
   "source": [
    "# Plot of reviews per county in US\n",
    "plt.subplot(121)\n",
    "sns.barplot(x = df_county.index, y=\"reviews\",data=df_county)\n",
    "\n",
    "plt.title(\"Reviews per county in United States\")\n",
    "plt.xlabel(\"County of United States\")\n",
    "plt.xticks(rotation=270)\n",
    "plt.ylabel(\"Number of reviews\")\n",
    "\n",
    "# Plot of reviews per country\n",
    "plt.subplot(122)\n",
    "sns.barplot(x = df_country.index, y=\"reviews\",data=df_country)\n",
    "\n",
    "plt.title(\"Reviews per country\")\n",
    "plt.xlabel(\"Country\")\n",
    "plt.xticks(rotation=270)\n",
    "plt.ylabel(\"Number of reviews\")\n",
    "\n",
    "plt.subplots_adjust(left=0.1,\n",
    "                    bottom=0.2,\n",
    "                    right=0.9,\n",
    "                    top=0.9,\n",
    "                    wspace=0.4,\n",
    "                    hspace=0.4)\n",
    "plt.show()"
   ]
  },
  {
   "cell_type": "markdown",
   "id": "7b9c02d0-fb63-4fde-bef4-5b5e6354626b",
   "metadata": {},
   "source": [
    "### Breweries per location"
   ]
  },
  {
   "cell_type": "code",
   "execution_count": 31,
   "id": "c358ef8d-104a-49ca-898f-640fd89de2b8",
   "metadata": {},
   "outputs": [
    {
     "data": {
      "image/png": "[encoded data removed]",
      "text/plain": [
       "<Figure size 432x288 with 1 Axes>"
      ]
     },
     "metadata": {
      "needs_background": "light"
     },
     "output_type": "display_data"
    }
   ],
   "source": [
    "Num_brewery = df_interest_RB.groupby('brewery_location')['brewery_location'].count()\n",
    "df_brewery = Num_brewery.to_frame()\n",
    "df_brewery.rename(columns = {'brewery_location':'breweries'}, inplace = True)\n",
    "\n",
    "# Plot of breweries per location\n",
    "sns.barplot(x = Num_brewery.index, y=\"breweries\",data=df_brewery)\n",
    "\n",
    "plt.title(\"Breweries per location\")\n",
    "plt.xlabel(\"Country\")\n",
    "plt.xticks(rotation=270)\n",
    "plt.ylabel(\"Number of breweries per location\")\n",
    "plt.show()"
   ]
  },
  {
   "cell_type": "code",
   "execution_count": null,
   "id": "105f5d6d-f65c-4f79-988f-ef62590c66e5",
   "metadata": {},
   "outputs": [],
   "source": []
  }
 ],
 "metadata": {
  "kernelspec": {
   "display_name": "Python 3 (ipykernel)",
   "language": "python",
   "name": "python3"
  },
  "language_info": {
   "codemirror_mode": {
    "name": "ipython",
    "version": 3
   },
   "file_extension": ".py",
   "mimetype": "text/x-python",
   "name": "python",
   "nbconvert_exporter": "python",
   "pygments_lexer": "ipython3",
   "version": "3.9.12"
  }
 },
 "nbformat": 4,
 "nbformat_minor": 5
}
